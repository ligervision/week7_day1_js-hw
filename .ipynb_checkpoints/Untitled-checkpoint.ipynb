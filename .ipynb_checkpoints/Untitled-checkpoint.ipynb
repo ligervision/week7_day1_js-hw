{
 "cells": [
  {
   "cell_type": "code",
   "execution_count": 39,
   "id": "d896fabb",
   "metadata": {},
   "outputs": [
    {
     "name": "stdout",
     "output_type": "stream",
     "text": [
      "range(0, 8)\n"
     ]
    },
    {
     "data": {
      "text/plain": [
       "[6]"
      ]
     },
     "execution_count": 39,
     "metadata": {},
     "output_type": "execute_result"
    }
   ],
   "source": [
    "# Given the array [1, 2, 3, 5, 6, 7],  finds the index of the first non-consecutive element in the array.\n",
    "# It should log out 3 because the array at index 3 is 5 which is not consecutive.\n",
    "\n",
    "# let exerciseOneArr = [1, 2, 3, 5, 6, 7]\n",
    "\n",
    "\n",
    "\n",
    "\n",
    "\n",
    "# Python - enumerate():\n",
    "\n",
    "# def first_consecutive(lst):\n",
    "#     for i,j in enumerate(lst,lst[0]):\n",
    "#         if i!=j:\n",
    "#             return j\n",
    "\n",
    "# first_consecutive([1,2,3,4,6,7,8])\n",
    "# # 6\n",
    "\n",
    "\n",
    "\n",
    "# Python - list comprehension:\n",
    "\n",
    "\"\"\"\n",
    "LIST COMPREHENSION:\n",
    "\n",
    "    CONDITION\n",
    "    newlist = [x for x in fruits if x != \"apple\"]\n",
    "    newlist = [x for x in range(10) if x < 5]\n",
    "    \n",
    "    ITERABLE\n",
    "    newlist = [x for x in range(10)]\n",
    "    \n",
    "    EXPRESSION\n",
    "    newlist = [x.upper() for x in fruits]\n",
    "    newlist = ['hello' for x in fruits]\n",
    "    newlist = [x if x != \"banana\" else \"orange\" for x in fruits]\n",
    "\n",
    "***** newlist = [expression for item in iterable if condition == True]\n",
    "\n",
    "\n",
    "\n",
    "\n",
    "\"\"\"\n",
    "\n",
    "    \n",
    "# exerciseOneArr\n",
    "\n",
    "# lst = [1, 2, 3, 5, 6, 7]\n",
    "lst = [1,2,3,4,5,6,8,9,10]\n",
    "\n",
    "def find_nonconsec():\n",
    "    newlist = [(n+1) for n in range((len(lst))-1) if (lst[n+1] - lst[n]) != 1]\n",
    "    print(range((len(lst))-1))\n",
    "    return newlist\n",
    "\n",
    "find_nonconsec()\n",
    "\n",
    "\n",
    "\n",
    "# JS:\n",
    "\n",
    "const arr = [1,2,3,4,5,6,8,9,10];\n",
    "\n",
    "# const secondArr = [3,4,5,6,7,8,9,10,11,12,13,14,15];\n",
    "\n",
    "const findException = (arr) => {\n",
    "   for(let i = 0; i < arr.length-1; i++){\n",
    "      if(arr[i+1] - arr[i] !== 1){\n",
    "         return i+1;\n",
    "      };\n",
    "   };\n",
    "   return -1;\n",
    "};\n",
    "console.log(findException(arr));\n",
    "console.log(findException(secondArr));\n",
    "\n"
   ]
  },
  {
   "cell_type": "code",
   "execution_count": null,
   "id": "a7797262",
   "metadata": {},
   "outputs": [],
   "source": []
  },
  {
   "cell_type": "code",
   "execution_count": null,
   "id": "416af16f",
   "metadata": {},
   "outputs": [],
   "source": []
  },
  {
   "cell_type": "code",
   "execution_count": null,
   "id": "841ae74a",
   "metadata": {},
   "outputs": [],
   "source": []
  }
 ],
 "metadata": {
  "kernelspec": {
   "display_name": "Python 3 (ipykernel)",
   "language": "python",
   "name": "python3"
  },
  "language_info": {
   "codemirror_mode": {
    "name": "ipython",
    "version": 3
   },
   "file_extension": ".py",
   "mimetype": "text/x-python",
   "name": "python",
   "nbconvert_exporter": "python",
   "pygments_lexer": "ipython3",
   "version": "3.9.7"
  }
 },
 "nbformat": 4,
 "nbformat_minor": 5
}
